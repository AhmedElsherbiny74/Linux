{
  "nbformat": 4,
  "nbformat_minor": 0,
  "metadata": {
    "colab": {
      "provenance": [],
      "authorship_tag": "ABX9TyOrvqvWao1RAX4tuQx2Thrh",
      "include_colab_link": true
    },
    "kernelspec": {
      "name": "python3",
      "display_name": "Python 3"
    },
    "language_info": {
      "name": "python"
    }
  },
  "cells": [
    {
      "cell_type": "markdown",
      "metadata": {
        "id": "view-in-github",
        "colab_type": "text"
      },
      "source": [
        "<a href=\"https://colab.research.google.com/github/AhmedElsherbiny74/Linux/blob/main/Python.ipynb\" target=\"_parent\"><img src=\"https://colab.research.google.com/assets/colab-badge.svg\" alt=\"Open In Colab\"/></a>"
      ]
    },
    {
      "cell_type": "markdown",
      "source": [
        "#**Python** Session 1"
      ],
      "metadata": {
        "id": "5iqGQtXAwvRY"
      }
    },
    {
      "cell_type": "markdown",
      "source": [
        "## **Python as scripting use in**\n",
        "\n",
        ">*  automation\n",
        ">*   testing\n",
        ">*   etc\n",
        "\n",
        "\n",
        "---\n",
        "\n",
        "## **Python is \"interpreted\" not compiler**\n",
        "\n",
        "---\n",
        "\n",
        "## **How to run on cmd ?**\n",
        "\n",
        "> python file.py\n",
        "\n",
        "---\n",
        "\n",
        "## **Comment in Python**"
      ],
      "metadata": {
        "id": "dYzJBCXtw6MN"
      }
    },
    {
      "cell_type": "code",
      "execution_count": 1,
      "metadata": {
        "colab": {
          "base_uri": "https://localhost:8080/"
        },
        "id": "i19LYYVVwteL",
        "outputId": "abe846fa-8a2d-49f3-d970-8d3ee377f06a"
      },
      "outputs": [
        {
          "output_type": "stream",
          "name": "stdout",
          "text": [
            "hello world\n"
          ]
        }
      ],
      "source": [
        "# This is Comment\n",
        "print(\"hello world\")"
      ]
    },
    {
      "cell_type": "markdown",
      "source": [
        "##**String in Python**\n",
        "\n",
        "\n",
        "```\n",
        "# This is formatted as code\n",
        "```\n",
        "\n"
      ],
      "metadata": {
        "id": "6j_81KkXz3WE"
      }
    },
    {
      "cell_type": "code",
      "source": [
        "# You can make string by ...\n",
        "print(\"hello\")\n",
        "print('hello')\n",
        "print('''hello''')\n",
        "print('hello \"world\"')"
      ],
      "metadata": {
        "colab": {
          "base_uri": "https://localhost:8080/"
        },
        "id": "2qxJCjQbz81L",
        "outputId": "14dcb936-60b6-4c9c-a166-2470ef055b2b"
      },
      "execution_count": 5,
      "outputs": [
        {
          "output_type": "stream",
          "name": "stdout",
          "text": [
            "hello\n",
            "hello\n",
            "hello\n",
            "hello \"world\"\n"
          ]
        }
      ]
    },
    {
      "cell_type": "markdown",
      "source": [
        "##**Data Types in Python**\n",
        "\n",
        "\n",
        "\n",
        "*   Text ( string )\n",
        "\n",
        "*   Numeric ( int,float,complex )\n",
        "*   Sequance (List , tuble , range )\n",
        "\n",
        "*   Mapping ( dict )\n",
        "*   Set ( set )\n",
        "*   Boolen ( bool )\n",
        "\n",
        "---\n",
        "\n",
        "##> **Python is dynamic language**\n",
        "\n",
        ">you don't need to to intilize the data type by  int x =5\n",
        "\n",
        "\n",
        "```\n",
        "# x = 5\n",
        "```\n",
        "\n",
        "---\n",
        "\n",
        "\n",
        "###>  **The example above**\n",
        ">that is not new variable of x,\n",
        "it's just overwrite and the old x has been deleted\n",
        "\n",
        "---\n",
        "\n",
        "##> **Functions for specs of variable**\n",
        "\n",
        "*   **type()**  ▶ for know the type of variable\n",
        "\n",
        "*   **id()**    ▶ for know the address of variable\n",
        "\n",
        "\n",
        "```\n",
        "# print(type(x)\n",
        "#print(id(x))\n",
        "```\n",
        "\n",
        "##> **Calculations of variables**\n",
        "```\n",
        "#print(x+y)\n",
        "```\n",
        "\n",
        "\n",
        "##> **List**\n",
        ">Same as Array but not flexible , it can hold different type of Data type\n",
        "\n",
        "##> **Tuble**\n",
        ">Same as List but Constant , you can't change any value of it's variables\n",
        "\n"
      ],
      "metadata": {
        "id": "KRzborY10-QZ"
      }
    },
    {
      "cell_type": "code",
      "source": [
        "# Intialize variable\n",
        "x=5\n",
        "print(x)\n",
        "x=\"sherbiny\"\n",
        "print(x)"
      ],
      "metadata": {
        "colab": {
          "base_uri": "https://localhost:8080/"
        },
        "id": "qUvNGudA1wOB",
        "outputId": "1fece953-6ad7-4216-959e-a80c39724732"
      },
      "execution_count": 11,
      "outputs": [
        {
          "output_type": "stream",
          "name": "stdout",
          "text": [
            "5\n",
            "sherbiny\n",
            "<class 'str'>\n",
            "137165001929456\n",
            "7\n",
            "10\n"
          ]
        }
      ]
    },
    {
      "cell_type": "code",
      "source": [
        "# Type of the variable\n",
        "print(type(x))      #string"
      ],
      "metadata": {
        "id": "n_goMkxF8sJ8"
      },
      "execution_count": null,
      "outputs": []
    },
    {
      "cell_type": "code",
      "source": [
        "# ID of the variable\n",
        "print(id(x))"
      ],
      "metadata": {
        "id": "8bUz1th68rmK"
      },
      "execution_count": null,
      "outputs": []
    },
    {
      "cell_type": "code",
      "source": [
        "#calculations\n",
        "y,z=5,2\n",
        "print(y+z)\n",
        "print(y*z)"
      ],
      "metadata": {
        "id": "F9IRzVRc8rSy"
      },
      "execution_count": null,
      "outputs": []
    }
  ]
}